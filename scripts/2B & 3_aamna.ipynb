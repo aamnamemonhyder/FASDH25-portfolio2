{
  "cells": [
    {
      "cell_type": "markdown",
      "metadata": {
        "id": "2tbNoIl16xA9"
      },
      "source": [
        "# Stanza for NER Q 2B & 3"
      ]
    },
    {
      "cell_type": "code",
      "execution_count": 2,
      "metadata": {
        "colab": {
          "base_uri": "https://localhost:8080/"
        },
        "id": "d2Vhkyt75hm-",
        "outputId": "1f2424d8-b2ec-44c9-887a-e302f805b36b",
        "collapsed": true
      },
      "outputs": [
        {
          "output_type": "stream",
          "name": "stdout",
          "text": [
            "Collecting stanza\n",
            "  Downloading stanza-1.10.1-py3-none-any.whl.metadata (13 kB)\n",
            "Collecting emoji (from stanza)\n",
            "  Downloading emoji-2.14.1-py3-none-any.whl.metadata (5.7 kB)\n",
            "Requirement already satisfied: numpy in /usr/local/lib/python3.11/dist-packages (from stanza) (2.0.2)\n",
            "Requirement already satisfied: protobuf>=3.15.0 in /usr/local/lib/python3.11/dist-packages (from stanza) (5.29.4)\n",
            "Requirement already satisfied: requests in /usr/local/lib/python3.11/dist-packages (from stanza) (2.32.3)\n",
            "Requirement already satisfied: networkx in /usr/local/lib/python3.11/dist-packages (from stanza) (3.4.2)\n",
            "Requirement already satisfied: torch>=1.3.0 in /usr/local/lib/python3.11/dist-packages (from stanza) (2.6.0+cu124)\n",
            "Requirement already satisfied: tqdm in /usr/local/lib/python3.11/dist-packages (from stanza) (4.67.1)\n",
            "Requirement already satisfied: filelock in /usr/local/lib/python3.11/dist-packages (from torch>=1.3.0->stanza) (3.18.0)\n",
            "Requirement already satisfied: typing-extensions>=4.10.0 in /usr/local/lib/python3.11/dist-packages (from torch>=1.3.0->stanza) (4.13.2)\n",
            "Requirement already satisfied: jinja2 in /usr/local/lib/python3.11/dist-packages (from torch>=1.3.0->stanza) (3.1.6)\n",
            "Requirement already satisfied: fsspec in /usr/local/lib/python3.11/dist-packages (from torch>=1.3.0->stanza) (2025.3.2)\n",
            "Collecting nvidia-cuda-nvrtc-cu12==12.4.127 (from torch>=1.3.0->stanza)\n",
            "  Downloading nvidia_cuda_nvrtc_cu12-12.4.127-py3-none-manylinux2014_x86_64.whl.metadata (1.5 kB)\n",
            "Collecting nvidia-cuda-runtime-cu12==12.4.127 (from torch>=1.3.0->stanza)\n",
            "  Downloading nvidia_cuda_runtime_cu12-12.4.127-py3-none-manylinux2014_x86_64.whl.metadata (1.5 kB)\n",
            "Collecting nvidia-cuda-cupti-cu12==12.4.127 (from torch>=1.3.0->stanza)\n",
            "  Downloading nvidia_cuda_cupti_cu12-12.4.127-py3-none-manylinux2014_x86_64.whl.metadata (1.6 kB)\n",
            "Collecting nvidia-cudnn-cu12==9.1.0.70 (from torch>=1.3.0->stanza)\n",
            "  Downloading nvidia_cudnn_cu12-9.1.0.70-py3-none-manylinux2014_x86_64.whl.metadata (1.6 kB)\n",
            "Collecting nvidia-cublas-cu12==12.4.5.8 (from torch>=1.3.0->stanza)\n",
            "  Downloading nvidia_cublas_cu12-12.4.5.8-py3-none-manylinux2014_x86_64.whl.metadata (1.5 kB)\n",
            "Collecting nvidia-cufft-cu12==11.2.1.3 (from torch>=1.3.0->stanza)\n",
            "  Downloading nvidia_cufft_cu12-11.2.1.3-py3-none-manylinux2014_x86_64.whl.metadata (1.5 kB)\n",
            "Collecting nvidia-curand-cu12==10.3.5.147 (from torch>=1.3.0->stanza)\n",
            "  Downloading nvidia_curand_cu12-10.3.5.147-py3-none-manylinux2014_x86_64.whl.metadata (1.5 kB)\n",
            "Collecting nvidia-cusolver-cu12==11.6.1.9 (from torch>=1.3.0->stanza)\n",
            "  Downloading nvidia_cusolver_cu12-11.6.1.9-py3-none-manylinux2014_x86_64.whl.metadata (1.6 kB)\n",
            "Collecting nvidia-cusparse-cu12==12.3.1.170 (from torch>=1.3.0->stanza)\n",
            "  Downloading nvidia_cusparse_cu12-12.3.1.170-py3-none-manylinux2014_x86_64.whl.metadata (1.6 kB)\n",
            "Requirement already satisfied: nvidia-cusparselt-cu12==0.6.2 in /usr/local/lib/python3.11/dist-packages (from torch>=1.3.0->stanza) (0.6.2)\n",
            "Requirement already satisfied: nvidia-nccl-cu12==2.21.5 in /usr/local/lib/python3.11/dist-packages (from torch>=1.3.0->stanza) (2.21.5)\n",
            "Requirement already satisfied: nvidia-nvtx-cu12==12.4.127 in /usr/local/lib/python3.11/dist-packages (from torch>=1.3.0->stanza) (12.4.127)\n",
            "Collecting nvidia-nvjitlink-cu12==12.4.127 (from torch>=1.3.0->stanza)\n",
            "  Downloading nvidia_nvjitlink_cu12-12.4.127-py3-none-manylinux2014_x86_64.whl.metadata (1.5 kB)\n",
            "Requirement already satisfied: triton==3.2.0 in /usr/local/lib/python3.11/dist-packages (from torch>=1.3.0->stanza) (3.2.0)\n",
            "Requirement already satisfied: sympy==1.13.1 in /usr/local/lib/python3.11/dist-packages (from torch>=1.3.0->stanza) (1.13.1)\n",
            "Requirement already satisfied: mpmath<1.4,>=1.1.0 in /usr/local/lib/python3.11/dist-packages (from sympy==1.13.1->torch>=1.3.0->stanza) (1.3.0)\n",
            "Requirement already satisfied: charset-normalizer<4,>=2 in /usr/local/lib/python3.11/dist-packages (from requests->stanza) (3.4.1)\n",
            "Requirement already satisfied: idna<4,>=2.5 in /usr/local/lib/python3.11/dist-packages (from requests->stanza) (3.10)\n",
            "Requirement already satisfied: urllib3<3,>=1.21.1 in /usr/local/lib/python3.11/dist-packages (from requests->stanza) (2.4.0)\n",
            "Requirement already satisfied: certifi>=2017.4.17 in /usr/local/lib/python3.11/dist-packages (from requests->stanza) (2025.4.26)\n",
            "Requirement already satisfied: MarkupSafe>=2.0 in /usr/local/lib/python3.11/dist-packages (from jinja2->torch>=1.3.0->stanza) (3.0.2)\n",
            "Downloading stanza-1.10.1-py3-none-any.whl (1.1 MB)\n",
            "\u001b[2K   \u001b[90m━━━━━━━━━━━━━━━━━━━━━━━━━━━━━━━━━━━━━━━━\u001b[0m \u001b[32m1.1/1.1 MB\u001b[0m \u001b[31m17.2 MB/s\u001b[0m eta \u001b[36m0:00:00\u001b[0m\n",
            "\u001b[?25hDownloading nvidia_cublas_cu12-12.4.5.8-py3-none-manylinux2014_x86_64.whl (363.4 MB)\n",
            "\u001b[2K   \u001b[90m━━━━━━━━━━━━━━━━━━━━━━━━━━━━━━━━━━━━━━━━\u001b[0m \u001b[32m363.4/363.4 MB\u001b[0m \u001b[31m4.4 MB/s\u001b[0m eta \u001b[36m0:00:00\u001b[0m\n",
            "\u001b[?25hDownloading nvidia_cuda_cupti_cu12-12.4.127-py3-none-manylinux2014_x86_64.whl (13.8 MB)\n",
            "\u001b[2K   \u001b[90m━━━━━━━━━━━━━━━━━━━━━━━━━━━━━━━━━━━━━━━━\u001b[0m \u001b[32m13.8/13.8 MB\u001b[0m \u001b[31m117.0 MB/s\u001b[0m eta \u001b[36m0:00:00\u001b[0m\n",
            "\u001b[?25hDownloading nvidia_cuda_nvrtc_cu12-12.4.127-py3-none-manylinux2014_x86_64.whl (24.6 MB)\n",
            "\u001b[2K   \u001b[90m━━━━━━━━━━━━━━━━━━━━━━━━━━━━━━━━━━━━━━━━\u001b[0m \u001b[32m24.6/24.6 MB\u001b[0m \u001b[31m67.9 MB/s\u001b[0m eta \u001b[36m0:00:00\u001b[0m\n",
            "\u001b[?25hDownloading nvidia_cuda_runtime_cu12-12.4.127-py3-none-manylinux2014_x86_64.whl (883 kB)\n",
            "\u001b[2K   \u001b[90m━━━━━━━━━━━━━━━━━━━━━━━━━━━━━━━━━━━━━━━━\u001b[0m \u001b[32m883.7/883.7 kB\u001b[0m \u001b[31m52.1 MB/s\u001b[0m eta \u001b[36m0:00:00\u001b[0m\n",
            "\u001b[?25hDownloading nvidia_cudnn_cu12-9.1.0.70-py3-none-manylinux2014_x86_64.whl (664.8 MB)\n",
            "\u001b[2K   \u001b[90m━━━━━━━━━━━━━━━━━━━━━━━━━━━━━━━━━━━━━━━━\u001b[0m \u001b[32m664.8/664.8 MB\u001b[0m \u001b[31m2.6 MB/s\u001b[0m eta \u001b[36m0:00:00\u001b[0m\n",
            "\u001b[?25hDownloading nvidia_cufft_cu12-11.2.1.3-py3-none-manylinux2014_x86_64.whl (211.5 MB)\n",
            "\u001b[2K   \u001b[90m━━━━━━━━━━━━━━━━━━━━━━━━━━━━━━━━━━━━━━━━\u001b[0m \u001b[32m211.5/211.5 MB\u001b[0m \u001b[31m5.5 MB/s\u001b[0m eta \u001b[36m0:00:00\u001b[0m\n",
            "\u001b[?25hDownloading nvidia_curand_cu12-10.3.5.147-py3-none-manylinux2014_x86_64.whl (56.3 MB)\n",
            "\u001b[2K   \u001b[90m━━━━━━━━━━━━━━━━━━━━━━━━━━━━━━━━━━━━━━━━\u001b[0m \u001b[32m56.3/56.3 MB\u001b[0m \u001b[31m13.0 MB/s\u001b[0m eta \u001b[36m0:00:00\u001b[0m\n",
            "\u001b[?25hDownloading nvidia_cusolver_cu12-11.6.1.9-py3-none-manylinux2014_x86_64.whl (127.9 MB)\n",
            "\u001b[2K   \u001b[90m━━━━━━━━━━━━━━━━━━━━━━━━━━━━━━━━━━━━━━━━\u001b[0m \u001b[32m127.9/127.9 MB\u001b[0m \u001b[31m7.9 MB/s\u001b[0m eta \u001b[36m0:00:00\u001b[0m\n",
            "\u001b[?25hDownloading nvidia_cusparse_cu12-12.3.1.170-py3-none-manylinux2014_x86_64.whl (207.5 MB)\n",
            "\u001b[2K   \u001b[90m━━━━━━━━━━━━━━━━━━━━━━━━━━━━━━━━━━━━━━━━\u001b[0m \u001b[32m207.5/207.5 MB\u001b[0m \u001b[31m5.5 MB/s\u001b[0m eta \u001b[36m0:00:00\u001b[0m\n",
            "\u001b[?25hDownloading nvidia_nvjitlink_cu12-12.4.127-py3-none-manylinux2014_x86_64.whl (21.1 MB)\n",
            "\u001b[2K   \u001b[90m━━━━━━━━━━━━━━━━━━━━━━━━━━━━━━━━━━━━━━━━\u001b[0m \u001b[32m21.1/21.1 MB\u001b[0m \u001b[31m41.8 MB/s\u001b[0m eta \u001b[36m0:00:00\u001b[0m\n",
            "\u001b[?25hDownloading emoji-2.14.1-py3-none-any.whl (590 kB)\n",
            "\u001b[2K   \u001b[90m━━━━━━━━━━━━━━━━━━━━━━━━━━━━━━━━━━━━━━━━\u001b[0m \u001b[32m590.6/590.6 kB\u001b[0m \u001b[31m41.1 MB/s\u001b[0m eta \u001b[36m0:00:00\u001b[0m\n",
            "\u001b[?25hInstalling collected packages: nvidia-nvjitlink-cu12, nvidia-curand-cu12, nvidia-cufft-cu12, nvidia-cuda-runtime-cu12, nvidia-cuda-nvrtc-cu12, nvidia-cuda-cupti-cu12, nvidia-cublas-cu12, emoji, nvidia-cusparse-cu12, nvidia-cudnn-cu12, nvidia-cusolver-cu12, stanza\n",
            "  Attempting uninstall: nvidia-nvjitlink-cu12\n",
            "    Found existing installation: nvidia-nvjitlink-cu12 12.5.82\n",
            "    Uninstalling nvidia-nvjitlink-cu12-12.5.82:\n",
            "      Successfully uninstalled nvidia-nvjitlink-cu12-12.5.82\n",
            "  Attempting uninstall: nvidia-curand-cu12\n",
            "    Found existing installation: nvidia-curand-cu12 10.3.6.82\n",
            "    Uninstalling nvidia-curand-cu12-10.3.6.82:\n",
            "      Successfully uninstalled nvidia-curand-cu12-10.3.6.82\n",
            "  Attempting uninstall: nvidia-cufft-cu12\n",
            "    Found existing installation: nvidia-cufft-cu12 11.2.3.61\n",
            "    Uninstalling nvidia-cufft-cu12-11.2.3.61:\n",
            "      Successfully uninstalled nvidia-cufft-cu12-11.2.3.61\n",
            "  Attempting uninstall: nvidia-cuda-runtime-cu12\n",
            "    Found existing installation: nvidia-cuda-runtime-cu12 12.5.82\n",
            "    Uninstalling nvidia-cuda-runtime-cu12-12.5.82:\n",
            "      Successfully uninstalled nvidia-cuda-runtime-cu12-12.5.82\n",
            "  Attempting uninstall: nvidia-cuda-nvrtc-cu12\n",
            "    Found existing installation: nvidia-cuda-nvrtc-cu12 12.5.82\n",
            "    Uninstalling nvidia-cuda-nvrtc-cu12-12.5.82:\n",
            "      Successfully uninstalled nvidia-cuda-nvrtc-cu12-12.5.82\n",
            "  Attempting uninstall: nvidia-cuda-cupti-cu12\n",
            "    Found existing installation: nvidia-cuda-cupti-cu12 12.5.82\n",
            "    Uninstalling nvidia-cuda-cupti-cu12-12.5.82:\n",
            "      Successfully uninstalled nvidia-cuda-cupti-cu12-12.5.82\n",
            "  Attempting uninstall: nvidia-cublas-cu12\n",
            "    Found existing installation: nvidia-cublas-cu12 12.5.3.2\n",
            "    Uninstalling nvidia-cublas-cu12-12.5.3.2:\n",
            "      Successfully uninstalled nvidia-cublas-cu12-12.5.3.2\n",
            "  Attempting uninstall: nvidia-cusparse-cu12\n",
            "    Found existing installation: nvidia-cusparse-cu12 12.5.1.3\n",
            "    Uninstalling nvidia-cusparse-cu12-12.5.1.3:\n",
            "      Successfully uninstalled nvidia-cusparse-cu12-12.5.1.3\n",
            "  Attempting uninstall: nvidia-cudnn-cu12\n",
            "    Found existing installation: nvidia-cudnn-cu12 9.3.0.75\n",
            "    Uninstalling nvidia-cudnn-cu12-9.3.0.75:\n",
            "      Successfully uninstalled nvidia-cudnn-cu12-9.3.0.75\n",
            "  Attempting uninstall: nvidia-cusolver-cu12\n",
            "    Found existing installation: nvidia-cusolver-cu12 11.6.3.83\n",
            "    Uninstalling nvidia-cusolver-cu12-11.6.3.83:\n",
            "      Successfully uninstalled nvidia-cusolver-cu12-11.6.3.83\n",
            "Successfully installed emoji-2.14.1 nvidia-cublas-cu12-12.4.5.8 nvidia-cuda-cupti-cu12-12.4.127 nvidia-cuda-nvrtc-cu12-12.4.127 nvidia-cuda-runtime-cu12-12.4.127 nvidia-cudnn-cu12-9.1.0.70 nvidia-cufft-cu12-11.2.1.3 nvidia-curand-cu12-10.3.5.147 nvidia-cusolver-cu12-11.6.1.9 nvidia-cusparse-cu12-12.3.1.170 nvidia-nvjitlink-cu12-12.4.127 stanza-1.10.1\n"
          ]
        }
      ],
      "source": [
        "!pip install stanza"
      ]
    },
    {
      "cell_type": "markdown",
      "metadata": {
        "id": "jd5nuNbjEESY"
      },
      "source": [
        "## Import library and download language model\n",
        "\n",
        "After installing it, we import stanza into our notebook."
      ]
    },
    {
      "cell_type": "code",
      "execution_count": 3,
      "metadata": {
        "id": "T2jylnOA5k-w"
      },
      "outputs": [],
      "source": [
        "import stanza"
      ]
    },
    {
      "cell_type": "markdown",
      "metadata": {
        "id": "90p3sv3a7kxa"
      },
      "source": [
        "## Creating the pipeline\n",
        "\n",
        "Download the English language model and build the pipeline (we specify that it should only tokenize the text, separate multiword tokens and perform Named Entity Recognition):\n"
      ]
    },
    {
      "cell_type": "code",
      "execution_count": 4,
      "metadata": {
        "colab": {
          "base_uri": "https://localhost:8080/",
          "height": 582,
          "referenced_widgets": [
            "7b21b077430b4719b21d9d59b4c1e8f3",
            "68ffdfca06f14382b444410bdadc18e0",
            "3bba87a45f094cb8a7b0ad1c5779c471",
            "ba3450e5353b43d0b7dfec59cb284fd5",
            "8aee30a194314f428ad78920f7b393e6",
            "7ea433b539ea4043a9fbdcad8259653d",
            "b7ab8bea5a1c460bafbf002fa26ae067",
            "cb12f2d92ab041729b49630525965a12",
            "0eecf011c1154a49a377a9cba7a8afb1",
            "2a218b93421945c6ac1370fe2ce9e972",
            "1e570be0d5f344729438e5bc6a5787e0",
            "9c2462862a2441ecb981d26e0e8e442f",
            "1ea19f8d7084432babab88a1acf83c8f",
            "8bad3e172c1447e0b2ec027a5458c029",
            "66a62fb55c9b48df996cb09cbb82aa88",
            "4a4eeacfbbf74802a299a74b389d27ba",
            "ad68d72960ab4882ad178fd76188e684",
            "e307bd59a67845c7861f7ed7b9c35d45",
            "aca283e7fc1a4f45ac24674128b3c075",
            "78718cb99c4c4064a3e53c6b826f3dae",
            "5719fc4af6354601baf88d30f1a793ee",
            "f96981a5012a4e60961872d7bef29523",
            "3bf742467688403c9db78f25beb591fe",
            "642214d95aa5404396c435d1352c9632",
            "35d49fadfaa840f0b14d95c9e89bd8a3",
            "8efff5aac5c346469f98ead876e21212",
            "4a5c797940c041b3b4147906f2ea8903",
            "80de342d90e84369b5bad79a4daa5036",
            "9d2f686dc4894c6fa02afd21ebbd08a3",
            "f1c2b1d2a6984735a6a89bcaa29d0169",
            "b7587070fddf48b19276cd0e35725571",
            "52033ad9584542118179bef0e0629f91",
            "bf8b1afce31d40938608d9e9d5607c5b"
          ]
        },
        "id": "ogjLOFc6z6f2",
        "outputId": "8219fe30-6556-4b8c-be92-4d685066990b"
      },
      "outputs": [
        {
          "output_type": "display_data",
          "data": {
            "text/plain": [
              "Downloading https://raw.githubusercontent.com/stanfordnlp/stanza-resources/main/resources_1.10.0.json:   0%|  …"
            ],
            "application/vnd.jupyter.widget-view+json": {
              "version_major": 2,
              "version_minor": 0,
              "model_id": "7b21b077430b4719b21d9d59b4c1e8f3"
            }
          },
          "metadata": {}
        },
        {
          "output_type": "stream",
          "name": "stderr",
          "text": [
            "INFO:stanza:Downloaded file to /root/stanza_resources/resources.json\n",
            "INFO:stanza:Downloading default packages for language: en (English) ...\n"
          ]
        },
        {
          "output_type": "display_data",
          "data": {
            "text/plain": [
              "Downloading https://huggingface.co/stanfordnlp/stanza-en/resolve/v1.10.0/models/default.zip:   0%|          | …"
            ],
            "application/vnd.jupyter.widget-view+json": {
              "version_major": 2,
              "version_minor": 0,
              "model_id": "9c2462862a2441ecb981d26e0e8e442f"
            }
          },
          "metadata": {}
        },
        {
          "output_type": "stream",
          "name": "stderr",
          "text": [
            "INFO:stanza:Downloaded file to /root/stanza_resources/en/default.zip\n",
            "INFO:stanza:Finished downloading models and saved to /root/stanza_resources\n",
            "INFO:stanza:Checking for updates to resources.json in case models have been updated.  Note: this behavior can be turned off with download_method=None or download_method=DownloadMethod.REUSE_RESOURCES\n"
          ]
        },
        {
          "output_type": "display_data",
          "data": {
            "text/plain": [
              "Downloading https://raw.githubusercontent.com/stanfordnlp/stanza-resources/main/resources_1.10.0.json:   0%|  …"
            ],
            "application/vnd.jupyter.widget-view+json": {
              "version_major": 2,
              "version_minor": 0,
              "model_id": "3bf742467688403c9db78f25beb591fe"
            }
          },
          "metadata": {}
        },
        {
          "output_type": "stream",
          "name": "stderr",
          "text": [
            "INFO:stanza:Downloaded file to /root/stanza_resources/resources.json\n",
            "WARNING:stanza:Language en package default expects mwt, which has been added\n",
            "INFO:stanza:Loading these models for language: en (English):\n",
            "=========================================\n",
            "| Processor | Package                   |\n",
            "-----------------------------------------\n",
            "| tokenize  | combined                  |\n",
            "| mwt       | combined                  |\n",
            "| ner       | ontonotes-ww-multi_charlm |\n",
            "=========================================\n",
            "\n",
            "INFO:stanza:Using device: cuda\n",
            "INFO:stanza:Loading: tokenize\n",
            "INFO:stanza:Loading: mwt\n",
            "INFO:stanza:Loading: ner\n",
            "INFO:stanza:Done loading processors!\n"
          ]
        }
      ],
      "source": [
        "stanza.download(\"en\")\n",
        "nlp = stanza.Pipeline(lang=\"en\", processors='tokenize,ner')"
      ]
    },
    {
      "cell_type": "markdown",
      "metadata": {
        "id": "X6xGpoEjvjW8"
      },
      "source": [
        "##cloning the portfolio repository"
      ]
    },
    {
      "cell_type": "code",
      "execution_count": 5,
      "metadata": {
        "colab": {
          "base_uri": "https://localhost:8080/"
        },
        "id": "TwrB6H_jvxvV",
        "outputId": "5fb6920a-de55-4d0c-b034-a770bb39941b"
      },
      "outputs": [
        {
          "output_type": "stream",
          "name": "stdout",
          "text": [
            "Cloning into 'FASDH25-portfolio2'...\n",
            "remote: Enumerating objects: 4366, done.\u001b[K\n",
            "remote: Counting objects: 100% (9/9), done.\u001b[K\n",
            "remote: Compressing objects: 100% (8/8), done.\u001b[K\n",
            "remote: Total 4366 (delta 3), reused 1 (delta 1), pack-reused 4357 (from 1)\u001b[K\n",
            "Receiving objects: 100% (4366/4366), 17.79 MiB | 45.88 MiB/s, done.\n",
            "Resolving deltas: 100% (10/10), done.\n"
          ]
        }
      ],
      "source": [
        "!git clone https://github.com/aamnamemonhyder/FASDH25-portfolio2.git"
      ]
    },
    {
      "cell_type": "markdown",
      "metadata": {
        "id": "rMRuYRV-ZkST"
      },
      "source": [
        "###Defining file path and loop over files to find GPE entities"
      ]
    },
    {
      "cell_type": "code",
      "execution_count": null,
      "metadata": {
        "id": "p2-QQeHSZkng"
      },
      "outputs": [],
      "source": [
        "# import os\n",
        "\n",
        "# articles_folder='/content/FASDH25-portfolio2/articles'\n",
        "# places={}\n",
        "\n",
        "# for filename in os.listdir(articles_folder):\n",
        "#   if filename[:10]=='2024-01-02':\n",
        "#     file_path=os.path.join(articles_folder, filename)\n",
        "#     with open(file_path, encoding='utf-8') as file:\n",
        "#       text=file.read()\n",
        "#     doc=nlp(text)\n",
        "#     for e in doc.entities:\n",
        "#       if e.type == 'GPE':\n",
        "#         places[e.text]= places.get(e.text,0)+1\n",
        "# print(places)"
      ]
    },
    {
      "cell_type": "markdown",
      "metadata": {
        "id": "clK9HQ6tze5-"
      },
      "source": [
        "###removing entities that are not GPE"
      ]
    },
    {
      "cell_type": "code",
      "execution_count": 6,
      "metadata": {
        "collapsed": true,
        "id": "mHlnWYVd0l-W",
        "colab": {
          "base_uri": "https://localhost:8080/"
        },
        "outputId": "183be130-7dab-4fb4-91ff-38fcffd618d5"
      },
      "outputs": [
        {
          "output_type": "stream",
          "name": "stdout",
          "text": [
            "{'Israel': 48, 'South Africa': 7, 'The Hague': 2, 'South Africa’s': 1, 'the Gaza Strip': 5, 'Gaza': 53, 'Khan Younis': 2, 'Beirut': 8, 'West Beirut': 9, 'Lebanon': 17, 'Beirut’s Hamra': 1, 'Hamra': 2, 'Jordan': 3, 'Palestine': 5, 'US': 28, 'East Beirut': 1, 'Al Maniya': 1, 'Bethlehem': 1, 'WestBank': 1, 'Rafah': 1, 'Deir el-Balah': 1, 'Nuseirat': 1, 'Gaza’s': 2, 'Bureij': 1, 'Gaza City': 1, 'the United States': 2, 'Belgium': 1, 'Beirut’s': 1, 'Dahiyeh': 1, 'West Bank': 1, 'United States': 2, 'Iran': 8, 'Gaza Strip': 1, 'Arura': 1, 'the West Bank': 1, 'Ramallah': 2, 'Deir Qaddis': 1, 'China': 4, 'India': 1, 'Iraq': 1, 'Yemen': 1, 'Syria': 8, 'Russia': 1, 'Myanmar': 1, 'The United States': 1, 'Washington': 1, 'Egypt': 1, 'Philadelphi': 1, 'London': 1, \"Israel's\": 1, 'Damascus': 2, 'Britain': 1, 'Kanaker': 1, 'Yaroun': 1, 'Sarit': 1, 'Tel Aviv': 1, 'Tehran': 1, 'Aleppo': 1, 'Baghdad': 1}\n"
          ]
        }
      ],
      "source": [
        "import os\n",
        "\n",
        "articles_folder='/content/FASDH25-portfolio2/articles'\n",
        "\n",
        "corrections= {\n",
        "    'Hezbollah’s' : 'NORP',\n",
        "     'West Beirutis' : 'NORP',\n",
        "     'Dabbouch': 'LOC'\n",
        "}\n",
        "places={}\n",
        "for filename in os.listdir(articles_folder):\n",
        "  if filename[:10]=='2024-01-02':\n",
        "    file_path=os.path.join(articles_folder, filename)\n",
        "    with open(file_path, encoding='utf-8') as file:\n",
        "      text=file.read()\n",
        "    doc=nlp(text)\n",
        "    for e in doc.entities:\n",
        "      if e.text in corrections:\n",
        "        continue\n",
        "      if e.type =='GPE':\n",
        "        places[e.text]=places.get(e.text,0)+ 1\n",
        "print(places)"
      ]
    },
    {
      "cell_type": "markdown",
      "metadata": {
        "id": "g0D3V9JGLiBb"
      },
      "source": [
        "Removing possessive apostrophes\n",
        "\n"
      ]
    },
    {
      "cell_type": "code",
      "execution_count": 13,
      "metadata": {
        "collapsed": true,
        "id": "TG9tNHLHL5PS",
        "colab": {
          "base_uri": "https://localhost:8080/"
        },
        "outputId": "50c8acb9-325e-44c2-bb45-baffc052602a"
      },
      "outputs": [
        {
          "output_type": "stream",
          "name": "stdout",
          "text": [
            "{'Israel': 49, 'South Africa': 8, 'The Hague': 2, 'the Gaza Strip': 5, 'Gaza': 55, 'Khan Younis': 2, 'Beirut': 9, 'West Beirut': 9, 'Lebanon': 17, 'Beirut Hamra': 1, 'Hamra': 2, 'Jordan': 3, 'Palestine': 5, 'US': 28, 'East Beirut': 1, 'Al Maniya': 1, 'Bethlehem': 1, 'WestBank': 1, 'Rafah': 1, 'Deir el-Balah': 1, 'Nuseirat': 1, 'Bureij': 1, 'Gaza City': 1, 'the United States': 2, 'Belgium': 1, 'Dahiyeh': 1, 'West Bank': 1, 'United States': 2, 'Iran': 8, 'Gaza Strip': 1, 'Arura': 1, 'the West Bank': 1, 'Ramallah': 2, 'Deir Qaddis': 1, 'China': 4, 'India': 1, 'Iraq': 1, 'Yemen': 1, 'Syria': 8, 'Russia': 1, 'Myanmar': 1, 'The United States': 1, 'Washington': 1, 'Egypt': 1, 'Philadelphi': 1, 'London': 1, 'Damascus': 2, 'Britain': 1, 'Kanaker': 1, 'Yaroun': 1, 'Sarit': 1, 'Tel Aviv': 1, 'Tehran': 1, 'Aleppo': 1, 'Baghdad': 1}\n"
          ]
        }
      ],
      "source": [
        "import re\n",
        "cleaned_places={}\n",
        "for name,count in places.items():\n",
        "  cleaned_name=re.sub(r\"[’'`]s\\b\", \"\", name)\n",
        "\n",
        "  if cleaned_name in cleaned_places:\n",
        "    cleaned_places[cleaned_name]+=count\n",
        "  else:\n",
        "    cleaned_places[cleaned_name]=count\n",
        "\n",
        "print(cleaned_places)"
      ]
    },
    {
      "cell_type": "markdown",
      "metadata": {
        "id": "FmrVT3LXyIjn"
      },
      "source": [
        "### write tsv"
      ]
    },
    {
      "cell_type": "code",
      "source": [
        "import pandas as pd\n",
        "def write_tsv(data, column_list, path):\n",
        "\n",
        "    # turn the dictionary into a list of (key, value) tuples\n",
        "    items = list(data.items())\n",
        "    # create a dataframe from the items list\n",
        "    df = pd.DataFrame.from_records(items, columns=column_list)\n",
        "    # write the dataframe to tsv:\n",
        "    df.to_csv(path, sep=\"\\t\", index=False)\n",
        "columns=['placenames','frequency']\n",
        "tsv_filename1='ner_counts_aamna.tsv'\n",
        "write_tsv(cleaned_places, columns, tsv_filename1)"
      ],
      "metadata": {
        "id": "EQoNAEhXoJYx"
      },
      "execution_count": 16,
      "outputs": []
    },
    {
      "cell_type": "code",
      "execution_count": 17,
      "metadata": {
        "colab": {
          "base_uri": "https://localhost:8080/"
        },
        "id": "RWJQm-od4a9M",
        "outputId": "2e9fe3f6-69d3-43ac-d4b5-c36ee0d71336"
      },
      "outputs": [
        {
          "output_type": "stream",
          "name": "stdout",
          "text": [
            "placenames\tfrequency\n",
            "Israel\t49\n",
            "South Africa\t8\n",
            "The Hague\t2\n",
            "the Gaza Strip\t5\n",
            "Gaza\t55\n",
            "Khan Younis\t2\n",
            "Beirut\t9\n",
            "West Beirut\t9\n",
            "Lebanon\t17\n",
            "Beirut Hamra\t1\n",
            "Hamra\t2\n",
            "Jordan\t3\n",
            "Palestine\t5\n",
            "US\t28\n",
            "East Beirut\t1\n",
            "Al Maniya\t1\n",
            "Bethlehem\t1\n",
            "WestBank\t1\n",
            "Rafah\t1\n",
            "Deir el-Balah\t1\n",
            "Nuseirat\t1\n",
            "Bureij\t1\n",
            "Gaza City\t1\n",
            "the United States\t2\n",
            "Belgium\t1\n",
            "Dahiyeh\t1\n",
            "West Bank\t1\n",
            "United States\t2\n",
            "Iran\t8\n",
            "Gaza Strip\t1\n",
            "Arura\t1\n",
            "the West Bank\t1\n",
            "Ramallah\t2\n",
            "Deir Qaddis\t1\n",
            "China\t4\n",
            "India\t1\n",
            "Iraq\t1\n",
            "Yemen\t1\n",
            "Syria\t8\n",
            "Russia\t1\n",
            "Myanmar\t1\n",
            "The United States\t1\n",
            "Washington\t1\n",
            "Egypt\t1\n",
            "Philadelphi\t1\n",
            "London\t1\n",
            "Damascus\t2\n",
            "Britain\t1\n",
            "Kanaker\t1\n",
            "Yaroun\t1\n",
            "Sarit\t1\n",
            "Tel Aviv\t1\n",
            "Tehran\t1\n",
            "Aleppo\t1\n",
            "Baghdad\t1\n",
            "\n"
          ]
        }
      ],
      "source": [
        "with open(tsv_filename1, 'r', encoding='utf-8') as file:\n",
        "  print(file.read())"
      ]
    },
    {
      "cell_type": "code",
      "source": [
        "from google.colab import files"
      ],
      "metadata": {
        "id": "K2dLnmHBypK3"
      },
      "execution_count": 18,
      "outputs": []
    },
    {
      "cell_type": "code",
      "source": [
        "files.download(tsv_filename1)"
      ],
      "metadata": {
        "colab": {
          "base_uri": "https://localhost:8080/",
          "height": 17
        },
        "id": "WZ_Rca-Cy0zJ",
        "outputId": "26b5e13e-5029-4fec-de6b-22243e021c3d"
      },
      "execution_count": 21,
      "outputs": [
        {
          "output_type": "display_data",
          "data": {
            "text/plain": [
              "<IPython.core.display.Javascript object>"
            ],
            "application/javascript": [
              "\n",
              "    async function download(id, filename, size) {\n",
              "      if (!google.colab.kernel.accessAllowed) {\n",
              "        return;\n",
              "      }\n",
              "      const div = document.createElement('div');\n",
              "      const label = document.createElement('label');\n",
              "      label.textContent = `Downloading \"${filename}\": `;\n",
              "      div.appendChild(label);\n",
              "      const progress = document.createElement('progress');\n",
              "      progress.max = size;\n",
              "      div.appendChild(progress);\n",
              "      document.body.appendChild(div);\n",
              "\n",
              "      const buffers = [];\n",
              "      let downloaded = 0;\n",
              "\n",
              "      const channel = await google.colab.kernel.comms.open(id);\n",
              "      // Send a message to notify the kernel that we're ready.\n",
              "      channel.send({})\n",
              "\n",
              "      for await (const message of channel.messages) {\n",
              "        // Send a message to notify the kernel that we're ready.\n",
              "        channel.send({})\n",
              "        if (message.buffers) {\n",
              "          for (const buffer of message.buffers) {\n",
              "            buffers.push(buffer);\n",
              "            downloaded += buffer.byteLength;\n",
              "            progress.value = downloaded;\n",
              "          }\n",
              "        }\n",
              "      }\n",
              "      const blob = new Blob(buffers, {type: 'application/binary'});\n",
              "      const a = document.createElement('a');\n",
              "      a.href = window.URL.createObjectURL(blob);\n",
              "      a.download = filename;\n",
              "      div.appendChild(a);\n",
              "      a.click();\n",
              "      div.remove();\n",
              "    }\n",
              "  "
            ]
          },
          "metadata": {}
        },
        {
          "output_type": "display_data",
          "data": {
            "text/plain": [
              "<IPython.core.display.Javascript object>"
            ],
            "application/javascript": [
              "download(\"download_937a1dc6-43f4-4692-80e8-4c8610129245\", \"ner_counts_aamna.tsv\", 632)"
            ]
          },
          "metadata": {}
        }
      ]
    },
    {
      "cell_type": "markdown",
      "metadata": {
        "id": "SuQykQL4Rixq"
      },
      "source": [
        "### define the coordinates function\n"
      ]
    },
    {
      "cell_type": "code",
      "execution_count": 24,
      "metadata": {
        "id": "AozBoByBjhfT"
      },
      "outputs": [],
      "source": [
        "import requests\n",
        "import time\n",
        "\n",
        "geonames_username = \"aamnamemon1\"\n",
        "\n",
        "def get_coordinates(place, username=geonames_username, fuzzy=0, timeout=1):\n",
        "  time.sleep(timeout)\n",
        "  url = \"http://api.geonames.org/searchJSON?\"\n",
        "  params = {\"q\": place, \"username\": username, \"fuzzy\": fuzzy, \"maxRows\": 1, \"isNameRequired\": True}\n",
        "  response = requests.get(url, params=params)\n",
        "  results = response.json()\n",
        "  #print(results)\n",
        "  try:\n",
        "    result = results[\"geonames\"][0]\n",
        "    return {\"latitude\": result[\"lat\"], \"longitude\": result[\"lng\"]}\n",
        "  except (IndexError, KeyError):\n",
        "    return{'latitude':\"NA\", 'longitude':'NA'}"
      ]
    },
    {
      "cell_type": "markdown",
      "metadata": {
        "id": "Fpf2kILRRQBe"
      },
      "source": [
        "### finding coordinates with geocoding\n",
        "however we print it in a list form so that we can convert it into a tsv later\n"
      ]
    },
    {
      "cell_type": "code",
      "execution_count": 30,
      "metadata": {
        "colab": {
          "base_uri": "https://localhost:8080/"
        },
        "id": "blG87tODRqX-",
        "outputId": "21b032f5-a1b8-4672-d25b-8c3fc64a0c7b"
      },
      "outputs": [
        {
          "output_type": "stream",
          "name": "stdout",
          "text": [
            "[('Israel', {'latitude': '31.5', 'longitude': '34.75'}), ('South Africa', {'latitude': '26.5', 'longitude': '-81'}), ('The Hague', {'latitude': '52.07667', 'longitude': '4.29861'}), ('the Gaza Strip', {'latitude': '-26.25', 'longitude': '28'}), ('Gaza', {'latitude': '31.50161', 'longitude': '34.46672'}), ('Khan Younis', {'latitude': '31.34018', 'longitude': '34.30627'}), ('Beirut', {'latitude': '33.89332', 'longitude': '35.50157'}), ('West Beirut', {'latitude': '51.48653', 'longitude': '-0.40583'}), ('Lebanon', {'latitude': '33.83333', 'longitude': '35.83333'}), ('Beirut Hamra', {'latitude': '33.89332', 'longitude': '35.50157'}), ('Hamra', {'latitude': '31.81088', 'longitude': '-8.27151'}), ('Jordan', {'latitude': '31', 'longitude': '36'}), ('Palestine', {'latitude': '31.92157', 'longitude': '35.20329'}), ('US', {'latitude': '49.1', 'longitude': '1.96667'}), ('East Beirut', {'latitude': '37.02332', 'longitude': '-77.36954'}), ('Al Maniya', {'latitude': '41', 'longitude': '20'}), ('Bethlehem', {'latitude': '40.62593', 'longitude': '-75.37046'}), ('WestBank', {'latitude': '49.83521', 'longitude': '-119.62532'}), ('Rafah', {'latitude': '31.29722', 'longitude': '34.24357'}), ('Deir el-Balah', {'latitude': '31.41834', 'longitude': '34.34933'}), ('Nuseirat', {'latitude': '31.44861', 'longitude': '34.3925'}), ('Bureij', {'latitude': '31.43944', 'longitude': '34.40306'}), ('Gaza City', {'latitude': '31.50161', 'longitude': '34.46672'}), ('the United States', {'latitude': '34.31336', 'longitude': '-79.63717'}), ('Belgium', {'latitude': '50.75', 'longitude': '4.5'}), ('Dahiyeh', {'latitude': 'NA', 'longitude': 'NA'}), ('West Bank', {'latitude': '19.38197', 'longitude': '-81.39281'}), ('United States', {'latitude': '39.76', 'longitude': '-98.5'}), ('Iran', {'latitude': '32', 'longitude': '53'}), ('Gaza Strip', {'latitude': '31.50161', 'longitude': '34.46672'}), ('Arura', {'latitude': '9.8694', 'longitude': '76.30498'}), ('the West Bank', {'latitude': '-10.42172', 'longitude': '105.67912'}), ('Ramallah', {'latitude': '31.89964', 'longitude': '35.20422'}), ('Deir Qaddis', {'latitude': '35.33588', 'longitude': '40.14084'}), ('China', {'latitude': '35', 'longitude': '105'}), ('India', {'latitude': '22', 'longitude': '79'}), ('Iraq', {'latitude': '33', 'longitude': '44'}), ('Yemen', {'latitude': '15.5', 'longitude': '47.5'}), ('Syria', {'latitude': '35', 'longitude': '38'}), ('Russia', {'latitude': '60', 'longitude': '100'}), ('Myanmar', {'latitude': '21', 'longitude': '96'}), ('The United States', {'latitude': '34.31336', 'longitude': '-79.63717'}), ('Washington', {'latitude': '47.50012', 'longitude': '-120.50147'}), ('Egypt', {'latitude': '27', 'longitude': '30'}), ('Philadelphi', {'latitude': 'NA', 'longitude': 'NA'}), ('London', {'latitude': '51.50853', 'longitude': '-0.12574'}), ('Damascus', {'latitude': '33.5102', 'longitude': '36.29128'}), ('Britain', {'latitude': '54', 'longitude': '-2'}), ('Kanaker', {'latitude': '40.22302', 'longitude': '44.53986'}), ('Yaroun', {'latitude': '33.08028', 'longitude': '35.4225'}), ('Sarit', {'latitude': '35.47569', 'longitude': '71.45229'}), ('Tel Aviv', {'latitude': '32.08088', 'longitude': '34.78057'}), ('Tehran', {'latitude': '35.69439', 'longitude': '51.42151'}), ('Aleppo', {'latitude': '36.20124', 'longitude': '37.16117'}), ('Baghdad', {'latitude': '33.34058', 'longitude': '44.40088'})]\n"
          ]
        }
      ],
      "source": [
        "df=pd.read_csv(tsv_filename1, sep='\\t')\n",
        "\n",
        "coordinates_list=[]\n",
        "\n",
        "for entity in df['placenames']:\n",
        "  coordinates=get_coordinates(entity)\n",
        "\n",
        "  coordinates_list.append((entity, coordinates))\n",
        "print (coordinates_list)"
      ]
    },
    {
      "cell_type": "markdown",
      "metadata": {
        "id": "9cys8ScAbIjl"
      },
      "source": [
        "TSV FOR COORDINATES\n"
      ]
    },
    {
      "cell_type": "code",
      "execution_count": 33,
      "metadata": {
        "colab": {
          "base_uri": "https://localhost:8080/"
        },
        "collapsed": true,
        "id": "1Hdz-r2xbUA5",
        "outputId": "c5e9101e-09ce-4d69-f002-b4d2deaf894a"
      },
      "outputs": [
        {
          "output_type": "stream",
          "name": "stdout",
          "text": [
            "placenames\tlatitude\tlongitude\n",
            "Israel\t31.5\t34.75\n",
            "South Africa\t26.5\t-81\n",
            "The Hague\t52.07667\t4.29861\n",
            "the Gaza Strip\t-26.25\t28\n",
            "Gaza\t31.50161\t34.46672\n",
            "Khan Younis\t31.34018\t34.30627\n",
            "Beirut\t33.89332\t35.50157\n",
            "West Beirut\t51.48653\t-0.40583\n",
            "Lebanon\t33.83333\t35.83333\n",
            "Beirut Hamra\t33.89332\t35.50157\n",
            "Hamra\t31.81088\t-8.27151\n",
            "Jordan\t31\t36\n",
            "Palestine\t31.92157\t35.20329\n",
            "US\t49.1\t1.96667\n",
            "East Beirut\t37.02332\t-77.36954\n",
            "Al Maniya\t41\t20\n",
            "Bethlehem\t40.62593\t-75.37046\n",
            "WestBank\t49.83521\t-119.62532\n",
            "Rafah\t31.29722\t34.24357\n",
            "Deir el-Balah\t31.41834\t34.34933\n",
            "Nuseirat\t31.44861\t34.3925\n",
            "Bureij\t31.43944\t34.40306\n",
            "Gaza City\t31.50161\t34.46672\n",
            "the United States\t34.31336\t-79.63717\n",
            "Belgium\t50.75\t4.5\n",
            "Dahiyeh\tNA\tNA\n",
            "West Bank\t19.38197\t-81.39281\n",
            "United States\t39.76\t-98.5\n",
            "Iran\t32\t53\n",
            "Gaza Strip\t31.50161\t34.46672\n",
            "Arura\t9.8694\t76.30498\n",
            "the West Bank\t-10.42172\t105.67912\n",
            "Ramallah\t31.89964\t35.20422\n",
            "Deir Qaddis\t35.33588\t40.14084\n",
            "China\t35\t105\n",
            "India\t22\t79\n",
            "Iraq\t33\t44\n",
            "Yemen\t15.5\t47.5\n",
            "Syria\t35\t38\n",
            "Russia\t60\t100\n",
            "Myanmar\t21\t96\n",
            "The United States\t34.31336\t-79.63717\n",
            "Washington\t47.50012\t-120.50147\n",
            "Egypt\t27\t30\n",
            "Philadelphi\tNA\tNA\n",
            "London\t51.50853\t-0.12574\n",
            "Damascus\t33.5102\t36.29128\n",
            "Britain\t54\t-2\n",
            "Kanaker\t40.22302\t44.53986\n",
            "Yaroun\t33.08028\t35.4225\n",
            "Sarit\t35.47569\t71.45229\n",
            "Tel Aviv\t32.08088\t34.78057\n",
            "Tehran\t35.69439\t51.42151\n",
            "Aleppo\t36.20124\t37.16117\n",
            "Baghdad\t33.34058\t44.40088\n",
            "\n"
          ]
        }
      ],
      "source": [
        "rows=[(entity, coordinates['latitude'], coordinates['longitude']) for entity, coordinates in coordinates_list]\n",
        "df=pd.DataFrame(rows, columns=['placenames','latitude', 'longitude'])\n",
        "df.to_csv('ner_gazetteer_aamna.tsv', sep='\\t', index=False)\n",
        "\n",
        "tsv_filename2='ner_gazetteer_aamna.tsv'\n",
        "with open (tsv_filename2, 'r', encoding='utf-8') as file:\n",
        "  print(file.read())"
      ]
    },
    {
      "cell_type": "code",
      "source": [
        "files.download(tsv_filename2)"
      ],
      "metadata": {
        "colab": {
          "base_uri": "https://localhost:8080/",
          "height": 17
        },
        "id": "CpmkfLI3kQbO",
        "outputId": "7b60a793-7765-4937-b88e-af837a70225a"
      },
      "execution_count": 34,
      "outputs": [
        {
          "output_type": "display_data",
          "data": {
            "text/plain": [
              "<IPython.core.display.Javascript object>"
            ],
            "application/javascript": [
              "\n",
              "    async function download(id, filename, size) {\n",
              "      if (!google.colab.kernel.accessAllowed) {\n",
              "        return;\n",
              "      }\n",
              "      const div = document.createElement('div');\n",
              "      const label = document.createElement('label');\n",
              "      label.textContent = `Downloading \"${filename}\": `;\n",
              "      div.appendChild(label);\n",
              "      const progress = document.createElement('progress');\n",
              "      progress.max = size;\n",
              "      div.appendChild(progress);\n",
              "      document.body.appendChild(div);\n",
              "\n",
              "      const buffers = [];\n",
              "      let downloaded = 0;\n",
              "\n",
              "      const channel = await google.colab.kernel.comms.open(id);\n",
              "      // Send a message to notify the kernel that we're ready.\n",
              "      channel.send({})\n",
              "\n",
              "      for await (const message of channel.messages) {\n",
              "        // Send a message to notify the kernel that we're ready.\n",
              "        channel.send({})\n",
              "        if (message.buffers) {\n",
              "          for (const buffer of message.buffers) {\n",
              "            buffers.push(buffer);\n",
              "            downloaded += buffer.byteLength;\n",
              "            progress.value = downloaded;\n",
              "          }\n",
              "        }\n",
              "      }\n",
              "      const blob = new Blob(buffers, {type: 'application/binary'});\n",
              "      const a = document.createElement('a');\n",
              "      a.href = window.URL.createObjectURL(blob);\n",
              "      a.download = filename;\n",
              "      div.appendChild(a);\n",
              "      a.click();\n",
              "      div.remove();\n",
              "    }\n",
              "  "
            ]
          },
          "metadata": {}
        },
        {
          "output_type": "display_data",
          "data": {
            "text/plain": [
              "<IPython.core.display.Javascript object>"
            ],
            "application/javascript": [
              "download(\"download_ae273cdb-07c8-41b6-95e8-6452c7c615c7\", \"ner_gazetteer_aamna.tsv\", 1317)"
            ]
          },
          "metadata": {}
        }
      ]
    }
  ],
  "metadata": {
    "colab": {
      "provenance": [],
      "gpuType": "T4"
    },
    "kernelspec": {
      "display_name": "Python 3",
      "name": "python3"
    },
    "language_info": {
      "name": "python"
    },
    "widgets": {
      "application/vnd.jupyter.widget-state+json": {
        "7b21b077430b4719b21d9d59b4c1e8f3": {
          "model_module": "@jupyter-widgets/controls",
          "model_name": "HBoxModel",
          "model_module_version": "1.5.0",
          "state": {
            "_dom_classes": [],
            "_model_module": "@jupyter-widgets/controls",
            "_model_module_version": "1.5.0",
            "_model_name": "HBoxModel",
            "_view_count": null,
            "_view_module": "@jupyter-widgets/controls",
            "_view_module_version": "1.5.0",
            "_view_name": "HBoxView",
            "box_style": "",
            "children": [
              "IPY_MODEL_68ffdfca06f14382b444410bdadc18e0",
              "IPY_MODEL_3bba87a45f094cb8a7b0ad1c5779c471",
              "IPY_MODEL_ba3450e5353b43d0b7dfec59cb284fd5"
            ],
            "layout": "IPY_MODEL_8aee30a194314f428ad78920f7b393e6"
          }
        },
        "68ffdfca06f14382b444410bdadc18e0": {
          "model_module": "@jupyter-widgets/controls",
          "model_name": "HTMLModel",
          "model_module_version": "1.5.0",
          "state": {
            "_dom_classes": [],
            "_model_module": "@jupyter-widgets/controls",
            "_model_module_version": "1.5.0",
            "_model_name": "HTMLModel",
            "_view_count": null,
            "_view_module": "@jupyter-widgets/controls",
            "_view_module_version": "1.5.0",
            "_view_name": "HTMLView",
            "description": "",
            "description_tooltip": null,
            "layout": "IPY_MODEL_7ea433b539ea4043a9fbdcad8259653d",
            "placeholder": "​",
            "style": "IPY_MODEL_b7ab8bea5a1c460bafbf002fa26ae067",
            "value": "Downloading https://raw.githubusercontent.com/stanfordnlp/stanza-resources/main/resources_1.10.0.json: "
          }
        },
        "3bba87a45f094cb8a7b0ad1c5779c471": {
          "model_module": "@jupyter-widgets/controls",
          "model_name": "FloatProgressModel",
          "model_module_version": "1.5.0",
          "state": {
            "_dom_classes": [],
            "_model_module": "@jupyter-widgets/controls",
            "_model_module_version": "1.5.0",
            "_model_name": "FloatProgressModel",
            "_view_count": null,
            "_view_module": "@jupyter-widgets/controls",
            "_view_module_version": "1.5.0",
            "_view_name": "ProgressView",
            "bar_style": "success",
            "description": "",
            "description_tooltip": null,
            "layout": "IPY_MODEL_cb12f2d92ab041729b49630525965a12",
            "max": 52741,
            "min": 0,
            "orientation": "horizontal",
            "style": "IPY_MODEL_0eecf011c1154a49a377a9cba7a8afb1",
            "value": 52741
          }
        },
        "ba3450e5353b43d0b7dfec59cb284fd5": {
          "model_module": "@jupyter-widgets/controls",
          "model_name": "HTMLModel",
          "model_module_version": "1.5.0",
          "state": {
            "_dom_classes": [],
            "_model_module": "@jupyter-widgets/controls",
            "_model_module_version": "1.5.0",
            "_model_name": "HTMLModel",
            "_view_count": null,
            "_view_module": "@jupyter-widgets/controls",
            "_view_module_version": "1.5.0",
            "_view_name": "HTMLView",
            "description": "",
            "description_tooltip": null,
            "layout": "IPY_MODEL_2a218b93421945c6ac1370fe2ce9e972",
            "placeholder": "​",
            "style": "IPY_MODEL_1e570be0d5f344729438e5bc6a5787e0",
            "value": " 426k/? [00:00&lt;00:00, 32.3MB/s]"
          }
        },
        "8aee30a194314f428ad78920f7b393e6": {
          "model_module": "@jupyter-widgets/base",
          "model_name": "LayoutModel",
          "model_module_version": "1.2.0",
          "state": {
            "_model_module": "@jupyter-widgets/base",
            "_model_module_version": "1.2.0",
            "_model_name": "LayoutModel",
            "_view_count": null,
            "_view_module": "@jupyter-widgets/base",
            "_view_module_version": "1.2.0",
            "_view_name": "LayoutView",
            "align_content": null,
            "align_items": null,
            "align_self": null,
            "border": null,
            "bottom": null,
            "display": null,
            "flex": null,
            "flex_flow": null,
            "grid_area": null,
            "grid_auto_columns": null,
            "grid_auto_flow": null,
            "grid_auto_rows": null,
            "grid_column": null,
            "grid_gap": null,
            "grid_row": null,
            "grid_template_areas": null,
            "grid_template_columns": null,
            "grid_template_rows": null,
            "height": null,
            "justify_content": null,
            "justify_items": null,
            "left": null,
            "margin": null,
            "max_height": null,
            "max_width": null,
            "min_height": null,
            "min_width": null,
            "object_fit": null,
            "object_position": null,
            "order": null,
            "overflow": null,
            "overflow_x": null,
            "overflow_y": null,
            "padding": null,
            "right": null,
            "top": null,
            "visibility": null,
            "width": null
          }
        },
        "7ea433b539ea4043a9fbdcad8259653d": {
          "model_module": "@jupyter-widgets/base",
          "model_name": "LayoutModel",
          "model_module_version": "1.2.0",
          "state": {
            "_model_module": "@jupyter-widgets/base",
            "_model_module_version": "1.2.0",
            "_model_name": "LayoutModel",
            "_view_count": null,
            "_view_module": "@jupyter-widgets/base",
            "_view_module_version": "1.2.0",
            "_view_name": "LayoutView",
            "align_content": null,
            "align_items": null,
            "align_self": null,
            "border": null,
            "bottom": null,
            "display": null,
            "flex": null,
            "flex_flow": null,
            "grid_area": null,
            "grid_auto_columns": null,
            "grid_auto_flow": null,
            "grid_auto_rows": null,
            "grid_column": null,
            "grid_gap": null,
            "grid_row": null,
            "grid_template_areas": null,
            "grid_template_columns": null,
            "grid_template_rows": null,
            "height": null,
            "justify_content": null,
            "justify_items": null,
            "left": null,
            "margin": null,
            "max_height": null,
            "max_width": null,
            "min_height": null,
            "min_width": null,
            "object_fit": null,
            "object_position": null,
            "order": null,
            "overflow": null,
            "overflow_x": null,
            "overflow_y": null,
            "padding": null,
            "right": null,
            "top": null,
            "visibility": null,
            "width": null
          }
        },
        "b7ab8bea5a1c460bafbf002fa26ae067": {
          "model_module": "@jupyter-widgets/controls",
          "model_name": "DescriptionStyleModel",
          "model_module_version": "1.5.0",
          "state": {
            "_model_module": "@jupyter-widgets/controls",
            "_model_module_version": "1.5.0",
            "_model_name": "DescriptionStyleModel",
            "_view_count": null,
            "_view_module": "@jupyter-widgets/base",
            "_view_module_version": "1.2.0",
            "_view_name": "StyleView",
            "description_width": ""
          }
        },
        "cb12f2d92ab041729b49630525965a12": {
          "model_module": "@jupyter-widgets/base",
          "model_name": "LayoutModel",
          "model_module_version": "1.2.0",
          "state": {
            "_model_module": "@jupyter-widgets/base",
            "_model_module_version": "1.2.0",
            "_model_name": "LayoutModel",
            "_view_count": null,
            "_view_module": "@jupyter-widgets/base",
            "_view_module_version": "1.2.0",
            "_view_name": "LayoutView",
            "align_content": null,
            "align_items": null,
            "align_self": null,
            "border": null,
            "bottom": null,
            "display": null,
            "flex": null,
            "flex_flow": null,
            "grid_area": null,
            "grid_auto_columns": null,
            "grid_auto_flow": null,
            "grid_auto_rows": null,
            "grid_column": null,
            "grid_gap": null,
            "grid_row": null,
            "grid_template_areas": null,
            "grid_template_columns": null,
            "grid_template_rows": null,
            "height": null,
            "justify_content": null,
            "justify_items": null,
            "left": null,
            "margin": null,
            "max_height": null,
            "max_width": null,
            "min_height": null,
            "min_width": null,
            "object_fit": null,
            "object_position": null,
            "order": null,
            "overflow": null,
            "overflow_x": null,
            "overflow_y": null,
            "padding": null,
            "right": null,
            "top": null,
            "visibility": null,
            "width": null
          }
        },
        "0eecf011c1154a49a377a9cba7a8afb1": {
          "model_module": "@jupyter-widgets/controls",
          "model_name": "ProgressStyleModel",
          "model_module_version": "1.5.0",
          "state": {
            "_model_module": "@jupyter-widgets/controls",
            "_model_module_version": "1.5.0",
            "_model_name": "ProgressStyleModel",
            "_view_count": null,
            "_view_module": "@jupyter-widgets/base",
            "_view_module_version": "1.2.0",
            "_view_name": "StyleView",
            "bar_color": null,
            "description_width": ""
          }
        },
        "2a218b93421945c6ac1370fe2ce9e972": {
          "model_module": "@jupyter-widgets/base",
          "model_name": "LayoutModel",
          "model_module_version": "1.2.0",
          "state": {
            "_model_module": "@jupyter-widgets/base",
            "_model_module_version": "1.2.0",
            "_model_name": "LayoutModel",
            "_view_count": null,
            "_view_module": "@jupyter-widgets/base",
            "_view_module_version": "1.2.0",
            "_view_name": "LayoutView",
            "align_content": null,
            "align_items": null,
            "align_self": null,
            "border": null,
            "bottom": null,
            "display": null,
            "flex": null,
            "flex_flow": null,
            "grid_area": null,
            "grid_auto_columns": null,
            "grid_auto_flow": null,
            "grid_auto_rows": null,
            "grid_column": null,
            "grid_gap": null,
            "grid_row": null,
            "grid_template_areas": null,
            "grid_template_columns": null,
            "grid_template_rows": null,
            "height": null,
            "justify_content": null,
            "justify_items": null,
            "left": null,
            "margin": null,
            "max_height": null,
            "max_width": null,
            "min_height": null,
            "min_width": null,
            "object_fit": null,
            "object_position": null,
            "order": null,
            "overflow": null,
            "overflow_x": null,
            "overflow_y": null,
            "padding": null,
            "right": null,
            "top": null,
            "visibility": null,
            "width": null
          }
        },
        "1e570be0d5f344729438e5bc6a5787e0": {
          "model_module": "@jupyter-widgets/controls",
          "model_name": "DescriptionStyleModel",
          "model_module_version": "1.5.0",
          "state": {
            "_model_module": "@jupyter-widgets/controls",
            "_model_module_version": "1.5.0",
            "_model_name": "DescriptionStyleModel",
            "_view_count": null,
            "_view_module": "@jupyter-widgets/base",
            "_view_module_version": "1.2.0",
            "_view_name": "StyleView",
            "description_width": ""
          }
        },
        "9c2462862a2441ecb981d26e0e8e442f": {
          "model_module": "@jupyter-widgets/controls",
          "model_name": "HBoxModel",
          "model_module_version": "1.5.0",
          "state": {
            "_dom_classes": [],
            "_model_module": "@jupyter-widgets/controls",
            "_model_module_version": "1.5.0",
            "_model_name": "HBoxModel",
            "_view_count": null,
            "_view_module": "@jupyter-widgets/controls",
            "_view_module_version": "1.5.0",
            "_view_name": "HBoxView",
            "box_style": "",
            "children": [
              "IPY_MODEL_1ea19f8d7084432babab88a1acf83c8f",
              "IPY_MODEL_8bad3e172c1447e0b2ec027a5458c029",
              "IPY_MODEL_66a62fb55c9b48df996cb09cbb82aa88"
            ],
            "layout": "IPY_MODEL_4a4eeacfbbf74802a299a74b389d27ba"
          }
        },
        "1ea19f8d7084432babab88a1acf83c8f": {
          "model_module": "@jupyter-widgets/controls",
          "model_name": "HTMLModel",
          "model_module_version": "1.5.0",
          "state": {
            "_dom_classes": [],
            "_model_module": "@jupyter-widgets/controls",
            "_model_module_version": "1.5.0",
            "_model_name": "HTMLModel",
            "_view_count": null,
            "_view_module": "@jupyter-widgets/controls",
            "_view_module_version": "1.5.0",
            "_view_name": "HTMLView",
            "description": "",
            "description_tooltip": null,
            "layout": "IPY_MODEL_ad68d72960ab4882ad178fd76188e684",
            "placeholder": "​",
            "style": "IPY_MODEL_e307bd59a67845c7861f7ed7b9c35d45",
            "value": "Downloading https://huggingface.co/stanfordnlp/stanza-en/resolve/v1.10.0/models/default.zip: 100%"
          }
        },
        "8bad3e172c1447e0b2ec027a5458c029": {
          "model_module": "@jupyter-widgets/controls",
          "model_name": "FloatProgressModel",
          "model_module_version": "1.5.0",
          "state": {
            "_dom_classes": [],
            "_model_module": "@jupyter-widgets/controls",
            "_model_module_version": "1.5.0",
            "_model_name": "FloatProgressModel",
            "_view_count": null,
            "_view_module": "@jupyter-widgets/controls",
            "_view_module_version": "1.5.0",
            "_view_name": "ProgressView",
            "bar_style": "success",
            "description": "",
            "description_tooltip": null,
            "layout": "IPY_MODEL_aca283e7fc1a4f45ac24674128b3c075",
            "max": 526251983,
            "min": 0,
            "orientation": "horizontal",
            "style": "IPY_MODEL_78718cb99c4c4064a3e53c6b826f3dae",
            "value": 526251983
          }
        },
        "66a62fb55c9b48df996cb09cbb82aa88": {
          "model_module": "@jupyter-widgets/controls",
          "model_name": "HTMLModel",
          "model_module_version": "1.5.0",
          "state": {
            "_dom_classes": [],
            "_model_module": "@jupyter-widgets/controls",
            "_model_module_version": "1.5.0",
            "_model_name": "HTMLModel",
            "_view_count": null,
            "_view_module": "@jupyter-widgets/controls",
            "_view_module_version": "1.5.0",
            "_view_name": "HTMLView",
            "description": "",
            "description_tooltip": null,
            "layout": "IPY_MODEL_5719fc4af6354601baf88d30f1a793ee",
            "placeholder": "​",
            "style": "IPY_MODEL_f96981a5012a4e60961872d7bef29523",
            "value": " 526M/526M [00:02&lt;00:00, 248MB/s]"
          }
        },
        "4a4eeacfbbf74802a299a74b389d27ba": {
          "model_module": "@jupyter-widgets/base",
          "model_name": "LayoutModel",
          "model_module_version": "1.2.0",
          "state": {
            "_model_module": "@jupyter-widgets/base",
            "_model_module_version": "1.2.0",
            "_model_name": "LayoutModel",
            "_view_count": null,
            "_view_module": "@jupyter-widgets/base",
            "_view_module_version": "1.2.0",
            "_view_name": "LayoutView",
            "align_content": null,
            "align_items": null,
            "align_self": null,
            "border": null,
            "bottom": null,
            "display": null,
            "flex": null,
            "flex_flow": null,
            "grid_area": null,
            "grid_auto_columns": null,
            "grid_auto_flow": null,
            "grid_auto_rows": null,
            "grid_column": null,
            "grid_gap": null,
            "grid_row": null,
            "grid_template_areas": null,
            "grid_template_columns": null,
            "grid_template_rows": null,
            "height": null,
            "justify_content": null,
            "justify_items": null,
            "left": null,
            "margin": null,
            "max_height": null,
            "max_width": null,
            "min_height": null,
            "min_width": null,
            "object_fit": null,
            "object_position": null,
            "order": null,
            "overflow": null,
            "overflow_x": null,
            "overflow_y": null,
            "padding": null,
            "right": null,
            "top": null,
            "visibility": null,
            "width": null
          }
        },
        "ad68d72960ab4882ad178fd76188e684": {
          "model_module": "@jupyter-widgets/base",
          "model_name": "LayoutModel",
          "model_module_version": "1.2.0",
          "state": {
            "_model_module": "@jupyter-widgets/base",
            "_model_module_version": "1.2.0",
            "_model_name": "LayoutModel",
            "_view_count": null,
            "_view_module": "@jupyter-widgets/base",
            "_view_module_version": "1.2.0",
            "_view_name": "LayoutView",
            "align_content": null,
            "align_items": null,
            "align_self": null,
            "border": null,
            "bottom": null,
            "display": null,
            "flex": null,
            "flex_flow": null,
            "grid_area": null,
            "grid_auto_columns": null,
            "grid_auto_flow": null,
            "grid_auto_rows": null,
            "grid_column": null,
            "grid_gap": null,
            "grid_row": null,
            "grid_template_areas": null,
            "grid_template_columns": null,
            "grid_template_rows": null,
            "height": null,
            "justify_content": null,
            "justify_items": null,
            "left": null,
            "margin": null,
            "max_height": null,
            "max_width": null,
            "min_height": null,
            "min_width": null,
            "object_fit": null,
            "object_position": null,
            "order": null,
            "overflow": null,
            "overflow_x": null,
            "overflow_y": null,
            "padding": null,
            "right": null,
            "top": null,
            "visibility": null,
            "width": null
          }
        },
        "e307bd59a67845c7861f7ed7b9c35d45": {
          "model_module": "@jupyter-widgets/controls",
          "model_name": "DescriptionStyleModel",
          "model_module_version": "1.5.0",
          "state": {
            "_model_module": "@jupyter-widgets/controls",
            "_model_module_version": "1.5.0",
            "_model_name": "DescriptionStyleModel",
            "_view_count": null,
            "_view_module": "@jupyter-widgets/base",
            "_view_module_version": "1.2.0",
            "_view_name": "StyleView",
            "description_width": ""
          }
        },
        "aca283e7fc1a4f45ac24674128b3c075": {
          "model_module": "@jupyter-widgets/base",
          "model_name": "LayoutModel",
          "model_module_version": "1.2.0",
          "state": {
            "_model_module": "@jupyter-widgets/base",
            "_model_module_version": "1.2.0",
            "_model_name": "LayoutModel",
            "_view_count": null,
            "_view_module": "@jupyter-widgets/base",
            "_view_module_version": "1.2.0",
            "_view_name": "LayoutView",
            "align_content": null,
            "align_items": null,
            "align_self": null,
            "border": null,
            "bottom": null,
            "display": null,
            "flex": null,
            "flex_flow": null,
            "grid_area": null,
            "grid_auto_columns": null,
            "grid_auto_flow": null,
            "grid_auto_rows": null,
            "grid_column": null,
            "grid_gap": null,
            "grid_row": null,
            "grid_template_areas": null,
            "grid_template_columns": null,
            "grid_template_rows": null,
            "height": null,
            "justify_content": null,
            "justify_items": null,
            "left": null,
            "margin": null,
            "max_height": null,
            "max_width": null,
            "min_height": null,
            "min_width": null,
            "object_fit": null,
            "object_position": null,
            "order": null,
            "overflow": null,
            "overflow_x": null,
            "overflow_y": null,
            "padding": null,
            "right": null,
            "top": null,
            "visibility": null,
            "width": null
          }
        },
        "78718cb99c4c4064a3e53c6b826f3dae": {
          "model_module": "@jupyter-widgets/controls",
          "model_name": "ProgressStyleModel",
          "model_module_version": "1.5.0",
          "state": {
            "_model_module": "@jupyter-widgets/controls",
            "_model_module_version": "1.5.0",
            "_model_name": "ProgressStyleModel",
            "_view_count": null,
            "_view_module": "@jupyter-widgets/base",
            "_view_module_version": "1.2.0",
            "_view_name": "StyleView",
            "bar_color": null,
            "description_width": ""
          }
        },
        "5719fc4af6354601baf88d30f1a793ee": {
          "model_module": "@jupyter-widgets/base",
          "model_name": "LayoutModel",
          "model_module_version": "1.2.0",
          "state": {
            "_model_module": "@jupyter-widgets/base",
            "_model_module_version": "1.2.0",
            "_model_name": "LayoutModel",
            "_view_count": null,
            "_view_module": "@jupyter-widgets/base",
            "_view_module_version": "1.2.0",
            "_view_name": "LayoutView",
            "align_content": null,
            "align_items": null,
            "align_self": null,
            "border": null,
            "bottom": null,
            "display": null,
            "flex": null,
            "flex_flow": null,
            "grid_area": null,
            "grid_auto_columns": null,
            "grid_auto_flow": null,
            "grid_auto_rows": null,
            "grid_column": null,
            "grid_gap": null,
            "grid_row": null,
            "grid_template_areas": null,
            "grid_template_columns": null,
            "grid_template_rows": null,
            "height": null,
            "justify_content": null,
            "justify_items": null,
            "left": null,
            "margin": null,
            "max_height": null,
            "max_width": null,
            "min_height": null,
            "min_width": null,
            "object_fit": null,
            "object_position": null,
            "order": null,
            "overflow": null,
            "overflow_x": null,
            "overflow_y": null,
            "padding": null,
            "right": null,
            "top": null,
            "visibility": null,
            "width": null
          }
        },
        "f96981a5012a4e60961872d7bef29523": {
          "model_module": "@jupyter-widgets/controls",
          "model_name": "DescriptionStyleModel",
          "model_module_version": "1.5.0",
          "state": {
            "_model_module": "@jupyter-widgets/controls",
            "_model_module_version": "1.5.0",
            "_model_name": "DescriptionStyleModel",
            "_view_count": null,
            "_view_module": "@jupyter-widgets/base",
            "_view_module_version": "1.2.0",
            "_view_name": "StyleView",
            "description_width": ""
          }
        },
        "3bf742467688403c9db78f25beb591fe": {
          "model_module": "@jupyter-widgets/controls",
          "model_name": "HBoxModel",
          "model_module_version": "1.5.0",
          "state": {
            "_dom_classes": [],
            "_model_module": "@jupyter-widgets/controls",
            "_model_module_version": "1.5.0",
            "_model_name": "HBoxModel",
            "_view_count": null,
            "_view_module": "@jupyter-widgets/controls",
            "_view_module_version": "1.5.0",
            "_view_name": "HBoxView",
            "box_style": "",
            "children": [
              "IPY_MODEL_642214d95aa5404396c435d1352c9632",
              "IPY_MODEL_35d49fadfaa840f0b14d95c9e89bd8a3",
              "IPY_MODEL_8efff5aac5c346469f98ead876e21212"
            ],
            "layout": "IPY_MODEL_4a5c797940c041b3b4147906f2ea8903"
          }
        },
        "642214d95aa5404396c435d1352c9632": {
          "model_module": "@jupyter-widgets/controls",
          "model_name": "HTMLModel",
          "model_module_version": "1.5.0",
          "state": {
            "_dom_classes": [],
            "_model_module": "@jupyter-widgets/controls",
            "_model_module_version": "1.5.0",
            "_model_name": "HTMLModel",
            "_view_count": null,
            "_view_module": "@jupyter-widgets/controls",
            "_view_module_version": "1.5.0",
            "_view_name": "HTMLView",
            "description": "",
            "description_tooltip": null,
            "layout": "IPY_MODEL_80de342d90e84369b5bad79a4daa5036",
            "placeholder": "​",
            "style": "IPY_MODEL_9d2f686dc4894c6fa02afd21ebbd08a3",
            "value": "Downloading https://raw.githubusercontent.com/stanfordnlp/stanza-resources/main/resources_1.10.0.json: "
          }
        },
        "35d49fadfaa840f0b14d95c9e89bd8a3": {
          "model_module": "@jupyter-widgets/controls",
          "model_name": "FloatProgressModel",
          "model_module_version": "1.5.0",
          "state": {
            "_dom_classes": [],
            "_model_module": "@jupyter-widgets/controls",
            "_model_module_version": "1.5.0",
            "_model_name": "FloatProgressModel",
            "_view_count": null,
            "_view_module": "@jupyter-widgets/controls",
            "_view_module_version": "1.5.0",
            "_view_name": "ProgressView",
            "bar_style": "success",
            "description": "",
            "description_tooltip": null,
            "layout": "IPY_MODEL_f1c2b1d2a6984735a6a89bcaa29d0169",
            "max": 52741,
            "min": 0,
            "orientation": "horizontal",
            "style": "IPY_MODEL_b7587070fddf48b19276cd0e35725571",
            "value": 52741
          }
        },
        "8efff5aac5c346469f98ead876e21212": {
          "model_module": "@jupyter-widgets/controls",
          "model_name": "HTMLModel",
          "model_module_version": "1.5.0",
          "state": {
            "_dom_classes": [],
            "_model_module": "@jupyter-widgets/controls",
            "_model_module_version": "1.5.0",
            "_model_name": "HTMLModel",
            "_view_count": null,
            "_view_module": "@jupyter-widgets/controls",
            "_view_module_version": "1.5.0",
            "_view_name": "HTMLView",
            "description": "",
            "description_tooltip": null,
            "layout": "IPY_MODEL_52033ad9584542118179bef0e0629f91",
            "placeholder": "​",
            "style": "IPY_MODEL_bf8b1afce31d40938608d9e9d5607c5b",
            "value": " 426k/? [00:00&lt;00:00, 15.9MB/s]"
          }
        },
        "4a5c797940c041b3b4147906f2ea8903": {
          "model_module": "@jupyter-widgets/base",
          "model_name": "LayoutModel",
          "model_module_version": "1.2.0",
          "state": {
            "_model_module": "@jupyter-widgets/base",
            "_model_module_version": "1.2.0",
            "_model_name": "LayoutModel",
            "_view_count": null,
            "_view_module": "@jupyter-widgets/base",
            "_view_module_version": "1.2.0",
            "_view_name": "LayoutView",
            "align_content": null,
            "align_items": null,
            "align_self": null,
            "border": null,
            "bottom": null,
            "display": null,
            "flex": null,
            "flex_flow": null,
            "grid_area": null,
            "grid_auto_columns": null,
            "grid_auto_flow": null,
            "grid_auto_rows": null,
            "grid_column": null,
            "grid_gap": null,
            "grid_row": null,
            "grid_template_areas": null,
            "grid_template_columns": null,
            "grid_template_rows": null,
            "height": null,
            "justify_content": null,
            "justify_items": null,
            "left": null,
            "margin": null,
            "max_height": null,
            "max_width": null,
            "min_height": null,
            "min_width": null,
            "object_fit": null,
            "object_position": null,
            "order": null,
            "overflow": null,
            "overflow_x": null,
            "overflow_y": null,
            "padding": null,
            "right": null,
            "top": null,
            "visibility": null,
            "width": null
          }
        },
        "80de342d90e84369b5bad79a4daa5036": {
          "model_module": "@jupyter-widgets/base",
          "model_name": "LayoutModel",
          "model_module_version": "1.2.0",
          "state": {
            "_model_module": "@jupyter-widgets/base",
            "_model_module_version": "1.2.0",
            "_model_name": "LayoutModel",
            "_view_count": null,
            "_view_module": "@jupyter-widgets/base",
            "_view_module_version": "1.2.0",
            "_view_name": "LayoutView",
            "align_content": null,
            "align_items": null,
            "align_self": null,
            "border": null,
            "bottom": null,
            "display": null,
            "flex": null,
            "flex_flow": null,
            "grid_area": null,
            "grid_auto_columns": null,
            "grid_auto_flow": null,
            "grid_auto_rows": null,
            "grid_column": null,
            "grid_gap": null,
            "grid_row": null,
            "grid_template_areas": null,
            "grid_template_columns": null,
            "grid_template_rows": null,
            "height": null,
            "justify_content": null,
            "justify_items": null,
            "left": null,
            "margin": null,
            "max_height": null,
            "max_width": null,
            "min_height": null,
            "min_width": null,
            "object_fit": null,
            "object_position": null,
            "order": null,
            "overflow": null,
            "overflow_x": null,
            "overflow_y": null,
            "padding": null,
            "right": null,
            "top": null,
            "visibility": null,
            "width": null
          }
        },
        "9d2f686dc4894c6fa02afd21ebbd08a3": {
          "model_module": "@jupyter-widgets/controls",
          "model_name": "DescriptionStyleModel",
          "model_module_version": "1.5.0",
          "state": {
            "_model_module": "@jupyter-widgets/controls",
            "_model_module_version": "1.5.0",
            "_model_name": "DescriptionStyleModel",
            "_view_count": null,
            "_view_module": "@jupyter-widgets/base",
            "_view_module_version": "1.2.0",
            "_view_name": "StyleView",
            "description_width": ""
          }
        },
        "f1c2b1d2a6984735a6a89bcaa29d0169": {
          "model_module": "@jupyter-widgets/base",
          "model_name": "LayoutModel",
          "model_module_version": "1.2.0",
          "state": {
            "_model_module": "@jupyter-widgets/base",
            "_model_module_version": "1.2.0",
            "_model_name": "LayoutModel",
            "_view_count": null,
            "_view_module": "@jupyter-widgets/base",
            "_view_module_version": "1.2.0",
            "_view_name": "LayoutView",
            "align_content": null,
            "align_items": null,
            "align_self": null,
            "border": null,
            "bottom": null,
            "display": null,
            "flex": null,
            "flex_flow": null,
            "grid_area": null,
            "grid_auto_columns": null,
            "grid_auto_flow": null,
            "grid_auto_rows": null,
            "grid_column": null,
            "grid_gap": null,
            "grid_row": null,
            "grid_template_areas": null,
            "grid_template_columns": null,
            "grid_template_rows": null,
            "height": null,
            "justify_content": null,
            "justify_items": null,
            "left": null,
            "margin": null,
            "max_height": null,
            "max_width": null,
            "min_height": null,
            "min_width": null,
            "object_fit": null,
            "object_position": null,
            "order": null,
            "overflow": null,
            "overflow_x": null,
            "overflow_y": null,
            "padding": null,
            "right": null,
            "top": null,
            "visibility": null,
            "width": null
          }
        },
        "b7587070fddf48b19276cd0e35725571": {
          "model_module": "@jupyter-widgets/controls",
          "model_name": "ProgressStyleModel",
          "model_module_version": "1.5.0",
          "state": {
            "_model_module": "@jupyter-widgets/controls",
            "_model_module_version": "1.5.0",
            "_model_name": "ProgressStyleModel",
            "_view_count": null,
            "_view_module": "@jupyter-widgets/base",
            "_view_module_version": "1.2.0",
            "_view_name": "StyleView",
            "bar_color": null,
            "description_width": ""
          }
        },
        "52033ad9584542118179bef0e0629f91": {
          "model_module": "@jupyter-widgets/base",
          "model_name": "LayoutModel",
          "model_module_version": "1.2.0",
          "state": {
            "_model_module": "@jupyter-widgets/base",
            "_model_module_version": "1.2.0",
            "_model_name": "LayoutModel",
            "_view_count": null,
            "_view_module": "@jupyter-widgets/base",
            "_view_module_version": "1.2.0",
            "_view_name": "LayoutView",
            "align_content": null,
            "align_items": null,
            "align_self": null,
            "border": null,
            "bottom": null,
            "display": null,
            "flex": null,
            "flex_flow": null,
            "grid_area": null,
            "grid_auto_columns": null,
            "grid_auto_flow": null,
            "grid_auto_rows": null,
            "grid_column": null,
            "grid_gap": null,
            "grid_row": null,
            "grid_template_areas": null,
            "grid_template_columns": null,
            "grid_template_rows": null,
            "height": null,
            "justify_content": null,
            "justify_items": null,
            "left": null,
            "margin": null,
            "max_height": null,
            "max_width": null,
            "min_height": null,
            "min_width": null,
            "object_fit": null,
            "object_position": null,
            "order": null,
            "overflow": null,
            "overflow_x": null,
            "overflow_y": null,
            "padding": null,
            "right": null,
            "top": null,
            "visibility": null,
            "width": null
          }
        },
        "bf8b1afce31d40938608d9e9d5607c5b": {
          "model_module": "@jupyter-widgets/controls",
          "model_name": "DescriptionStyleModel",
          "model_module_version": "1.5.0",
          "state": {
            "_model_module": "@jupyter-widgets/controls",
            "_model_module_version": "1.5.0",
            "_model_name": "DescriptionStyleModel",
            "_view_count": null,
            "_view_module": "@jupyter-widgets/base",
            "_view_module_version": "1.2.0",
            "_view_name": "StyleView",
            "description_width": ""
          }
        }
      }
    },
    "accelerator": "GPU"
  },
  "nbformat": 4,
  "nbformat_minor": 0
}